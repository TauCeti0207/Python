{
 "cells": [
  {
   "cell_type": "markdown",
   "id": "07b832b8",
   "metadata": {},
   "source": [
    "### 创建窗口"
   ]
  },
  {
   "cell_type": "code",
   "execution_count": 2,
   "id": "94bcaa1b",
   "metadata": {},
   "outputs": [],
   "source": [
    "# 导包要写cv2\n",
    "import cv2"
   ]
  },
  {
   "cell_type": "code",
   "execution_count": 7,
   "id": "eea74d0c",
   "metadata": {},
   "outputs": [
    {
     "name": "stdout",
     "output_type": "stream",
     "text": [
      "准备销毁窗口\n"
     ]
    }
   ],
   "source": [
    "# 创建窗口\n",
    "# WINDOW_AUTOSIZE不允许修改窗口大小\n",
    "cv2.namedWindow('window', cv2.WINDOW_NORMAL)\n",
    "\n",
    "# 更改窗口大小\n",
    "cv2.resizeWindow('window', 800, 600)\n",
    "\n",
    "# 展示名字\n",
    "cv2.imshow('window', 0)\n",
    "\n",
    "# 等待按键 waiKey返回按键的ASCII值 0表示接受任意按键\n",
    "# 利用waitKey来销毁窗口，不用每次都重启\n",
    "key = cv2.waitKey(0)\n",
    "# key是int，最少都是16位，当时ascii是8位，只需判断低八位即可\n",
    "if key & 0xFF == ord('q'):\n",
    "    print('准备销毁窗口')\n",
    "    cv2.destroyAllWindows()"
   ]
  },
  {
   "cell_type": "markdown",
   "id": "30268b15",
   "metadata": {},
   "source": [
    "### 读取图片"
   ]
  },
  {
   "cell_type": "code",
   "execution_count": null,
   "id": "9145fb1f",
   "metadata": {},
   "outputs": [],
   "source": []
  }
 ],
 "metadata": {
  "kernelspec": {
   "display_name": "Python 3 (ipykernel)",
   "language": "python",
   "name": "python3"
  },
  "language_info": {
   "codemirror_mode": {
    "name": "ipython",
    "version": 3
   },
   "file_extension": ".py",
   "mimetype": "text/x-python",
   "name": "python",
   "nbconvert_exporter": "python",
   "pygments_lexer": "ipython3",
   "version": "3.10.4"
  }
 },
 "nbformat": 4,
 "nbformat_minor": 5
}
